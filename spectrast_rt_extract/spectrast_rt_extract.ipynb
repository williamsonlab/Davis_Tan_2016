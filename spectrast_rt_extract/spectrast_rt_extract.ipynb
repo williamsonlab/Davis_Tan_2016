{
 "cells": [
  {
   "cell_type": "code",
   "execution_count": 1,
   "metadata": {
    "collapsed": true
   },
   "outputs": [],
   "source": [
    "import glob"
   ]
  },
  {
   "cell_type": "code",
   "execution_count": 2,
   "metadata": {
    "collapsed": true
   },
   "outputs": [],
   "source": [
    "##initialization paramters to set"
   ]
  },
  {
   "cell_type": "code",
   "execution_count": 3,
   "metadata": {
    "collapsed": true
   },
   "outputs": [],
   "source": [
    "##change to your consensus spectrast library [must include iRT values]\n",
    "path = './coli_speclib_withiRT_consensus.sptxt'\n",
    "\n",
    "##change to your desired output file\n",
    "out_file_name = './test_output.txt'\n",
    "\n",
    "##change to your set of iRT peptides\n",
    "iRTSet = ['AIQVTTGAK',\n",
    "'HHITADGYYR',\n",
    "'YADEVVR',\n",
    "'VQALADAAR',\n",
    "'LQELGATR',\n",
    "'AVVESIQR',\n",
    "'YTAAITGAEGK',\n",
    "'VYAAIEAGDK',\n",
    "'AQLQEIAQTK',\n",
    "'LGEFAPTR',\n",
    "'AIISDVNASDEDR',\n",
    "'GALSAVVADSR',\n",
    "'AYGSTNPINVVR',\n",
    "'GAVPGATGSDLIVKPAVK',\n",
    "'VFQTHSPVVDSISVK',\n",
    "'VANLGSLGDQVNVK',\n",
    "'VVGQLGQVLGPR',\n",
    "'ENEPFDVALR',\n",
    "'VIVEGINLVK',\n",
    "'VSQALDILTYTNK',\n",
    "'YLSLLPYTDR',\n",
    "'IGVPFVDGGVIK',\n",
    "'GIDTVLAELR',\n",
    "'IISLAPEVL',\n",
    "'DSILEAIDAGIK',\n",
    "'GIPTLLLFK',\n",
    "'DATGIDPVSLIAFDK',\n",
    "'DFNEALVHQVVVAYAAGAR',\n",
    "'GNTGENLLALLEGR',\n",
    "'ALLAAFDFPFR',\n",
    "'SVEELNTELLNLLR',\n",
    "'AFTSEEFTHFLEELTK',\n",
    "'STAESIVYSALETLAQR',\n",
    "'GTPGFSGADLANLVNEAALFAAR',\n",
    "'MFENITAAPADPILGLADLFR']"
   ]
  },
  {
   "cell_type": "code",
   "execution_count": 4,
   "metadata": {
    "collapsed": false
   },
   "outputs": [],
   "source": [
    "#open input file and read all lines\n",
    "f = open(glob.glob(path)[0], 'r')\n",
    "ls = f.readlines()"
   ]
  },
  {
   "cell_type": "code",
   "execution_count": 5,
   "metadata": {
    "collapsed": false,
    "scrolled": true
   },
   "outputs": [],
   "source": [
    "lookup = {}\n",
    "totalPeps=0\n",
    "out_file = open(out_file_name, 'w')\n",
    "for l in ls:\n",
    "    if l[:5] == 'Name:':\n",
    "        newPep = l.split(' ')[1].split('/')[0]\n",
    "        newPep = newPep.replace('M[147]', 'M[+16]')\n",
    "        newPep = newPep.replace('C[160]', 'C[+57]')\n",
    "        newPep = newPep.replace('E[111]', 'E[-18]')\n",
    "        newPep = newPep.replace('Q[111]', 'E[-17]')\n",
    "        newPep = newPep.replace('C[143]', 'E[+40]')\n",
    "        totalPeps+=1\n",
    "        holdPep = newPep\n",
    "    if l[:8] == 'Comment:':\n",
    "        iRT1 = float(l.split(' ')[-1].split(',')[0].split('=')[1])\n",
    "        if not holdPep in iRTSet:\n",
    "            lookup[holdPep] = iRT1\n",
    "            \n",
    "for k in sorted(lookup.keys()):\n",
    "    out_file.write(k + '\\t' + str(lookup[k]) + '\\n')\n",
    "    #print k + '\\t' + str(lookup[k])\n",
    "out_file.close()"
   ]
  }
 ],
 "metadata": {
  "kernelspec": {
   "display_name": "Python 2",
   "language": "python",
   "name": "python2"
  },
  "language_info": {
   "codemirror_mode": {
    "name": "ipython",
    "version": 2
   },
   "file_extension": ".py",
   "mimetype": "text/x-python",
   "name": "python",
   "nbconvert_exporter": "python",
   "pygments_lexer": "ipython2",
   "version": "2.7.6"
  }
 },
 "nbformat": 4,
 "nbformat_minor": 0
}
