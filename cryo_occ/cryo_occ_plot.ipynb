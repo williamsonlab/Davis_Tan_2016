{
 "cells": [
  {
   "cell_type": "code",
   "execution_count": null,
   "metadata": {
    "collapsed": false
   },
   "outputs": [],
   "source": [
    "## written by Joey Davis <joeydavis@gmail.com>"
   ]
  },
  {
   "cell_type": "code",
   "execution_count": 1,
   "metadata": {
    "collapsed": true
   },
   "outputs": [],
   "source": [
    "import glob\n",
    "import pylab\n",
    "import numpy\n",
    "import pandas\n",
    "import vizLib\n",
    "from matplotlib.pyplot import cm \n",
    "%matplotlib inline"
   ]
  },
  {
   "cell_type": "code",
   "execution_count": null,
   "metadata": {
    "collapsed": true
   },
   "outputs": [],
   "source": [
    "def getByClass(fileDict, element, classes):\n",
    "    toReturn = {}\n",
    "    thresholds = sorted(fileDict.keys())\n",
    "    for cl in classes:\n",
    "        toReturn[cl] = []\n",
    "        for thresh in thresholds:\n",
    "            df = pandas.read_csv(fileDict[thresh], sep='\\t')\n",
    "            toReturn[cl].append(df[df[\"#\"] == element][cl].values[0])\n",
    "    return [toReturn, thresholds]"
   ]
  },
  {
   "cell_type": "code",
   "execution_count": null,
   "metadata": {
    "collapsed": true
   },
   "outputs": [],
   "source": [
    "def plotByClass(elementName, byClassOccupancy, a):\n",
    "    classes = sorted(byClassOccupancy[0].keys())\n",
    "    color=iter(cm.rainbow(numpy.linspace(0,1,len(classes))))\n",
    "    for cl in classes:\n",
    "        c = next(color)\n",
    "        lineType = '-'\n",
    "        if cl == 'B':\n",
    "            c = 'black'\n",
    "            lineType = '--'\n",
    "        elif cl == 'E5':\n",
    "            c = 'black'\n",
    "        a.plot(byClassOccupancy[1], byClassOccupancy[0][cl], lineType, label=cl, color=c)\n",
    "    a.set_title(elementName)\n",
    "    a.set_xticks([byClassOccupancy[1][0], byClassOccupancy[1][-1]])\n",
    "    a.set_ylim([0,1])\n",
    "    #a.set_xlabel('threshold')\n",
    "    #a.set_ylabel('occupancy')\n",
    "    pylab.tight_layout()\n",
    "    vizLib.cleanAxis(a)"
   ]
  },
  {
   "cell_type": "code",
   "execution_count": null,
   "metadata": {
    "collapsed": true
   },
   "outputs": [],
   "source": [
    "def plotByClassPage(elementNameList, fileDict, classes, x, y, saveName):\n",
    "    f = pylab.figure(figsize = (10,8))\n",
    "    for i,el in enumerate(elementNameList):\n",
    "        a = f.add_subplot(x,y,i+1)\n",
    "        byClassOccupancy = getByClass(fileDict, el, classes)\n",
    "        plotByClass(el, byClassOccupancy, a)\n",
    "        if i%y == 0:\n",
    "            a.set_yticks([0,1])\n",
    "    a.legend(ncol=7, )\n",
    "    pylab.savefig(saveName+'.png')\n",
    "    pylab.savefig(saveName+'.pdf')"
   ]
  },
  {
   "cell_type": "code",
   "execution_count": null,
   "metadata": {
    "collapsed": false
   },
   "outputs": [],
   "source": [
    "vizLib.setRcs(axisLineWidth=1)\n",
    "path = './'\n",
    "files = sorted(glob.glob(path+'*.txt'))\n",
    "thresh = [float(i.split('/')[-1][:-4]) for i in files]\n",
    "fileDict = {thresh[i]:files[i] for i in range(len(files))}"
   ]
  },
  {
   "cell_type": "code",
   "execution_count": null,
   "metadata": {
    "collapsed": false
   },
   "outputs": [],
   "source": [
    "df = pandas.read_csv(fileDict[0.021], sep='\\t')\n",
    "allElements = list(df['#'].values)\n",
    "allClasses = list(df.columns[1:].values)\n",
    "allClasses.remove('C')\n",
    "allClasses.remove('D')\n",
    "allClasses.remove('E')"
   ]
  },
  {
   "cell_type": "code",
   "execution_count": null,
   "metadata": {
    "collapsed": false
   },
   "outputs": [],
   "source": [
    "uL2 = getByClass(fileDict, 'uL2', allClasses)\n",
    "colorLookup = {'B':'black'}\n",
    "uL2[1]\n",
    "a = [[0, 0, 0, 0]]\n",
    "a.append(list(list(i) for i in cm.rainbow(numpy.linspace(0,1,10))))"
   ]
  },
  {
   "cell_type": "code",
   "execution_count": null,
   "metadata": {
    "collapsed": false
   },
   "outputs": [],
   "source": [
    "for i in range(0,len(allElements)/10+1):\n",
    "    plotByClassPage(allElements[i*10:(i+1)*10], fileDict, allClasses, 2, 5, saveName = path+'occPlots_'+str(i))"
   ]
  }
 ],
 "metadata": {
  "kernelspec": {
   "display_name": "Python 2",
   "language": "python",
   "name": "python2"
  },
  "language_info": {
   "codemirror_mode": {
    "name": "ipython",
    "version": 2
   },
   "file_extension": ".py",
   "mimetype": "text/x-python",
   "name": "python",
   "nbconvert_exporter": "python",
   "pygments_lexer": "ipython2",
   "version": "2.7.6"
  }
 },
 "nbformat": 4,
 "nbformat_minor": 0
}
