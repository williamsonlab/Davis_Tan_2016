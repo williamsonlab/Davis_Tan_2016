{
 "cells": [
  {
   "cell_type": "code",
   "execution_count": null,
   "metadata": {
    "collapsed": false
   },
   "outputs": [],
   "source": [
    "import mrmTools\n",
    "import pandas\n",
    "import numpy\n",
    "import pylab\n",
    "import vizLib\n",
    "import qMS\n",
    "%pylab inline\n",
    "pandas.set_option('display.max_columns', None)"
   ]
  },
  {
   "cell_type": "code",
   "execution_count": null,
   "metadata": {
    "collapsed": false
   },
   "outputs": [],
   "source": [
    "#set parameters\n",
    "path = 'PATH_TO_SKYLINE_OUTPUT/'\n",
    "f = path+'SKYLINE_OUTPUT.csv'\n",
    "saveFigs = False\n",
    "set_name = 'DATASET_NAME'"
   ]
  },
  {
   "cell_type": "code",
   "execution_count": null,
   "metadata": {
    "collapsed": false,
    "scrolled": true
   },
   "outputs": [],
   "source": [
    "#read skyline csv file\n",
    "df = pandas.read_csv(f, sep=',')\n",
    "fileNames = qMS.sort_nicely(list(df['File Name'].unique()))"
   ]
  },
  {
   "cell_type": "code",
   "execution_count": null,
   "metadata": {
    "collapsed": false,
    "scrolled": true
   },
   "outputs": [],
   "source": [
    "#plot various parameters\n",
    "f = pylab.figure(figsize(10,8))\n",
    "for i, fn in enumerate(fileNames[:9]):\n",
    "    a = f.add_subplot(3,3,i+1)\n",
    "    df[df['File Name'] == fn]['heavy Mass Error PPM'].hist(bins=50, alpha=0.5, color='blue')\n",
    "    df[df['File Name'] == fn]['light Mass Error PPM'].hist(bins=50, alpha=0.5, color='red')\n",
    "    a.set_title(fn)\n",
    "    a.set_xlim(-40, 40)\n",
    "    pylab.tight_layout()\n",
    "    if saveFigs:\n",
    "        pylab.savefig(path+set_name+'_ppm.png')\n",
    "        pylab.savefig(path+set_name+'_ppm.pdf')\n",
    "f = pylab.figure(figsize(10,8))\n",
    "for i, fn in enumerate(fileNames[9:]):\n",
    "    a = f.add_subplot(3,3,i+1)\n",
    "    df[df['File Name'] == fn]['heavy Mass Error PPM'].hist(bins=50, alpha=0.5, color='blue')\n",
    "    df[df['File Name'] == fn]['light Mass Error PPM'].hist(bins=50, alpha=0.5, color='red')\n",
    "    a.set_title(fn)\n",
    "    a.set_xlim(-40, 40)\n",
    "    pylab.tight_layout()\n",
    "    if saveFigs:\n",
    "        pylab.savefig(path+set_name+'_set2_ppm.png')\n",
    "        pylab.savefig(path+set_name+'_set2_ppm.pdf')"
   ]
  },
  {
   "cell_type": "code",
   "execution_count": null,
   "metadata": {
    "collapsed": false,
    "scrolled": true
   },
   "outputs": [],
   "source": [
    "f = pylab.figure(figsize(10,8))\n",
    "for i, fn in enumerate(fileNames[:9]):\n",
    "    a = f.add_subplot(3,3,i+1)\n",
    "    hold = abs(df[df['File Name'] == fn]['heavy Mass Error PPM'] - df[df['File Name'] == fn]['light Mass Error PPM'])\n",
    "    hold.hist(bins=50, color='green')\n",
    "    a.set_title(fn)\n",
    "    a.set_xlim(0, 40)\n",
    "    pylab.tight_layout()\n",
    "    if saveFigs:\n",
    "        pylab.savefig(path+set_name+'_set1_ppmDiff.png')\n",
    "        pylab.savefig(path+set_name+'_set1_ppmDiff.pdf')\n",
    "\n",
    "f = pylab.figure(figsize(10,8))\n",
    "for i, fn in enumerate(fileNames[9:]):\n",
    "    a = f.add_subplot(3,3,i+1)\n",
    "    hold = abs(df[df['File Name'] == fn]['heavy Mass Error PPM'] - df[df['File Name'] == fn]['light Mass Error PPM'])\n",
    "    hold.hist(bins=50, color='green')\n",
    "    a.set_title(fn)\n",
    "    a.set_xlim(0, 40)\n",
    "    pylab.tight_layout()\n",
    "    if saveFigs:\n",
    "        pylab.savefig(path+set_name+'_set2_ppmDiff.png')\n",
    "        pylab.savefig(path+set_name+'_set2_ppmDiff.pdf')"
   ]
  },
  {
   "cell_type": "code",
   "execution_count": null,
   "metadata": {
    "collapsed": false,
    "scrolled": true
   },
   "outputs": [],
   "source": [
    "f = pylab.figure(figsize(10,8))\n",
    "for i, fn in enumerate(fileNames[:9]):\n",
    "    a = f.add_subplot(3,3,i+1)\n",
    "    df[df['File Name'] == fn]['heavy Library Dot Product'].hist(bins=50, alpha=0.5, color='blue')\n",
    "    df[df['File Name'] == fn]['light Library Dot Product'].hist(bins=50, alpha=0.5, color='red')\n",
    "    a.set_title(fn)\n",
    "    #a.set_xlim(-40, 40)\n",
    "    pylab.tight_layout()\n",
    "    if saveFigs:\n",
    "        pylab.savefig(path+set_name+'_set1_LDP.png')\n",
    "        pylab.savefig(path+set_name+'_set1_LDP.pdf')\n",
    "f = pylab.figure(figsize(10,8))\n",
    "for i, fn in enumerate(fileNames[9:]):\n",
    "    a = f.add_subplot(3,3,i+1)\n",
    "    df[df['File Name'] == fn]['heavy Library Dot Product'].hist(bins=50, alpha=0.5, color='blue')\n",
    "    df[df['File Name'] == fn]['light Library Dot Product'].hist(bins=50, alpha=0.5, color='red')\n",
    "    a.set_title(fn)\n",
    "    #a.set_xlim(-40, 40)\n",
    "    pylab.tight_layout()\n",
    "    if saveFigs:\n",
    "        pylab.savefig(path+set_name+'_set2_LDP.png')\n",
    "        pylab.savefig(path+set_name+'_set2_LDP.pdf')"
   ]
  },
  {
   "cell_type": "code",
   "execution_count": null,
   "metadata": {
    "collapsed": false,
    "scrolled": true
   },
   "outputs": [],
   "source": [
    "f = pylab.figure(figsize(10,8))\n",
    "for i, fn in enumerate(fileNames[:9]):\n",
    "    a = f.add_subplot(3,3,i+1)\n",
    "    df[df['File Name'] == fn]['DotProductLightToHeavy'].hist(bins=50, color='orange')\n",
    "    a.set_title(fn)\n",
    "    pylab.tight_layout()\n",
    "    if saveFigs:\n",
    "        pylab.savefig(path+set_name+'_set1_lhDP.png')\n",
    "        pylab.savefig(path+set_name+'_set1_lhDP.pdf')\n",
    "\n",
    "f = pylab.figure(figsize(10,8))\n",
    "for i, fn in enumerate(fileNames[9:]):\n",
    "    a = f.add_subplot(3,3,i+1)\n",
    "    df[df['File Name'] == fn]['DotProductLightToHeavy'].hist(bins=50, color='orange')\n",
    "    a.set_title(fn)\n",
    "    pylab.tight_layout()\n",
    "    if saveFigs:\n",
    "        pylab.savefig(path+set_name+'_set2_lhDP.png')\n",
    "        pylab.savefig(path+set_name+'_set2_lhDP.pdf')"
   ]
  },
  {
   "cell_type": "code",
   "execution_count": null,
   "metadata": {
    "collapsed": false,
    "scrolled": true
   },
   "outputs": [],
   "source": [
    "f = pylab.figure(figsize(10,8))\n",
    "for i, fn in enumerate(fileNames[:9]):\n",
    "    a = f.add_subplot(3,3,i+1)\n",
    "    hold = abs(df.loc[(df['File Name'] == fn),'light Retention Time'] - \n",
    "               df.loc[(df['File Name'] == fn),'heavy Retention Time'])\n",
    "    hold.hist(bins=50, color='orange')\n",
    "    a.set_title(fn)\n",
    "    pylab.tight_layout()\n",
    "    if saveFigs:\n",
    "        pylab.savefig(path+set_name+'_set1_RTDiff.png')\n",
    "        pylab.savefig(path+set_name+'_set1_RTDiff.pdf')\n",
    "\n",
    "f = pylab.figure(figsize(10,8))\n",
    "for i, fn in enumerate(fileNames[9:]):\n",
    "    a = f.add_subplot(3,3,i+1)\n",
    "    hold = abs(df.loc[(df['File Name'] == fn),'light Retention Time'] - \n",
    "               df.loc[(df['File Name'] == fn),'heavy Retention Time'])\n",
    "    hold.hist(bins=50, color='orange')\n",
    "    a.set_title(fn)\n",
    "    pylab.tight_layout()\n",
    "    if saveFigs:\n",
    "        pylab.savefig(path+set_name+'_set2_RTDiff.png')\n",
    "        pylab.savefig(path+set_name+'_set2_RTDiff.pdf')"
   ]
  },
  {
   "cell_type": "code",
   "execution_count": null,
   "metadata": {
    "collapsed": false
   },
   "outputs": [],
   "source": [
    "#choose filter settings based on plots above\n",
    "filter_settings = {'sigmas':2, 'ppmDiff':15, 'RTDiff':0.5, 'library_dot_product':0.65, 'light_heavy_dot_product':0.7}\n",
    "filtered_data_frame = mrmTools.filterDF(df, \n",
    "                                        sigmas=filter_settings['sigmas'], \n",
    "                                        ppmDiff=filter_settings['ppmDiff'], \n",
    "                                        RTDiff=filter_settings['RDDiff'], \n",
    "                                        ldp=filter_settings['library_dot_product'], \n",
    "                                        lhDP=filter_settings['light_heavy_dot_product'])"
   ]
  },
  {
   "cell_type": "code",
   "execution_count": null,
   "metadata": {
    "collapsed": false
   },
   "outputs": [],
   "source": [
    "#output filtered datasets\n",
    "allFiles = fdf['File Name'].unique()\n",
    "allFiles = qMS.sort_nicely(list(allFiles))\n",
    "\n",
    "fullValueSet = mrmTools.calcFullOccupancyHeatMap(filtered_data_frame, allFiles = allFiles)\n",
    "fullValueSet.to_csv(path+'filtered_l_h_median.csv')"
   ]
  }
 ],
 "metadata": {
  "kernelspec": {
   "display_name": "Python 2",
   "language": "python",
   "name": "python2"
  },
  "language_info": {
   "codemirror_mode": {
    "name": "ipython",
    "version": 2
   },
   "file_extension": ".py",
   "mimetype": "text/x-python",
   "name": "python",
   "nbconvert_exporter": "python",
   "pygments_lexer": "ipython2",
   "version": "2.7.6"
  }
 },
 "nbformat": 4,
 "nbformat_minor": 0
}
